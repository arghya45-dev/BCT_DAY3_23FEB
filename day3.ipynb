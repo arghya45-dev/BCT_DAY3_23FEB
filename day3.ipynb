{
 "cells": [
  {
   "cell_type": "code",
   "execution_count": null,
   "metadata": {},
   "outputs": [
    {
     "name": "stdout",
     "output_type": "stream",
     "text": [
      "\n",
      "User Data:\n",
      "+--------+------------------+----------+\n",
      "|  Name  |      Email       | Password |\n",
      "+--------+------------------+----------+\n",
      "| arghya | arghya@gmail.com |  00000   |\n",
      "|  arka  |  arka@gmail.com  |  00000   |\n",
      "| aritra | aritra@gmail.com |  000000  |\n",
      "+--------+------------------+----------+\n"
     ]
    }
   ],
   "source": [
    "from prettytable import PrettyTable\n",
    "\n",
    "def collect_user_data():\n",
    "    user_list = []\n",
    "    \n",
    "    while True:\n",
    "        user_data = {}\n",
    "        user_data[\"Name\"] = input(\"Enter your name: \")\n",
    "        user_data[\"Email\"] = input(\"Enter your email: \")\n",
    "        user_data[\"Password\"] = input(\"Enter your password: \")\n",
    "        \n",
    "        user_list.append(user_data)\n",
    "        \n",
    "        more = input(\"Do you want to add another user? (yes/no): \").strip().lower()\n",
    "        if more != \"yes\":\n",
    "            break\n",
    "    \n",
    "    return user_list\n",
    "\n",
    "def print_user_data(user_list):\n",
    "    table = PrettyTable([\"Name\", \"Email\", \"Password\"])\n",
    "    \n",
    "    for user in user_list:\n",
    "        table.add_row([user[\"Name\"], user[\"Email\"], user[\"Password\"]])\n",
    "    \n",
    "    print(\"\\nUser Data:\")\n",
    "    print(table)\n",
    "\n",
    "users = collect_user_data()\n",
    "print_user_data(users)\n",
    "\n"
   ]
  }
 ],
 "metadata": {
  "kernelspec": {
   "display_name": "Python 3",
   "language": "python",
   "name": "python3"
  },
  "language_info": {
   "codemirror_mode": {
    "name": "ipython",
    "version": 3
   },
   "file_extension": ".py",
   "mimetype": "text/x-python",
   "name": "python",
   "nbconvert_exporter": "python",
   "pygments_lexer": "ipython3",
   "version": "3.13.1"
  }
 },
 "nbformat": 4,
 "nbformat_minor": 2
}
